{
  "nbformat": 4,
  "nbformat_minor": 0,
  "metadata": {
    "colab": {
      "provenance": []
    },
    "kernelspec": {
      "name": "python3",
      "display_name": "Python 3"
    },
    "language_info": {
      "name": "python"
    }
  },
  "cells": [
    {
      "cell_type": "code",
      "source": [
        "#First, make sure the notebook is aware of the workshop data sets\n",
        "!git clone https://github.com/icomse/9th_workshop_ml_for_molecules.git\n",
        "import os\n",
        "os.chdir('9th_workshop_ml_for_molecules/data')"
      ],
      "metadata": {
        "colab": {
          "base_uri": "https://localhost:8080/"
        },
        "id": "KgwYqqBcCIyo",
        "outputId": "89f7c26f-808b-4d70-d71c-22e5ed6b233e"
      },
      "execution_count": 1,
      "outputs": [
        {
          "output_type": "stream",
          "name": "stdout",
          "text": [
            "fatal: destination path '9th_workshop_ml_for_molecules' already exists and is not an empty directory.\n"
          ]
        }
      ]
    },
    {
      "cell_type": "code",
      "execution_count": 2,
      "metadata": {
        "id": "-cHQvZ_OPLJ3"
      },
      "outputs": [],
      "source": [
        "import numpy as np\n",
        "import pandas as pd\n",
        "import matplotlib.pyplot as plt\n",
        "import time\n",
        "\n",
        "import torch\n",
        "import torch.nn as nn\n",
        "import torch.nn.functional as F\n",
        "import torch.optim as optim\n",
        "from torch.utils.data import Dataset, DataLoader\n",
        "\n",
        "from sklearn.metrics import r2_score\n",
        "from sklearn.metrics import mean_absolute_error\n",
        "from sklearn.metrics import mean_squared_error"
      ]
    },
    {
      "cell_type": "markdown",
      "source": [
        "### Building a deep learning model in Pytorch requires building multiple objects and routines:\n",
        "\n",
        "1. <u>Dataset</u>- object that contains your training/validation data\n",
        "\n",
        "2. <u>Model</u>- object that contains your model architecture and weights\n",
        "\n",
        "3. <u>Train Routine</u>- function that passes training data through model and updates weights\n",
        "\n",
        "4. <u>Validation Routine</u>- function that passes validation through model and reports performance"
      ],
      "metadata": {
        "id": "kbEld3HVdPVo"
      }
    },
    {
      "cell_type": "markdown",
      "source": [
        "### To build Pytorch models, it is helpful to understand what an object is:\n",
        "In Python, an object is a fundamental concept representing a specific instance of a class. It encapsulates data (attributes) and behavior (methods) into a single entity."
      ],
      "metadata": {
        "id": "WARFTnpPdH1V"
      }
    },
    {
      "cell_type": "code",
      "source": [
        "class Person: # Define an object corresponding to a person\n",
        "    def __init__(self, name, age, gender): # Upon creating this object, we will run the following code to initialize attributes\n",
        "        self.name = name\n",
        "        self.age = age\n",
        "        self.gender = gender\n",
        "    def can_drive(self): # Create a function that tells us whether the person is old enough to drive\n",
        "        return self.age>=16\n",
        "    def __len__(self): # Create a function to tell us the number of letters in the person's name using the len function\n",
        "        return len(self.name)"
      ],
      "metadata": {
        "id": "dfBI5g3kdXOy"
      },
      "execution_count": 3,
      "outputs": []
    },
    {
      "cell_type": "code",
      "source": [
        "# Upon creating the object, it will automatically get attributes:\n",
        "me = Person('Camille', 32, 'Female') # Create the object\n",
        "print(me.name)\n",
        "print(me.age)\n",
        "print(me.gender)"
      ],
      "metadata": {
        "colab": {
          "base_uri": "https://localhost:8080/"
        },
        "id": "d3XZ74MJdYfC",
        "outputId": "f5f3cc52-0611-4e70-84bb-30f6bf03d1b1"
      },
      "execution_count": 4,
      "outputs": [
        {
          "output_type": "stream",
          "name": "stdout",
          "text": [
            "Camille\n",
            "32\n",
            "Female\n"
          ]
        }
      ]
    },
    {
      "cell_type": "code",
      "source": [
        "# We can also access functions that were defined for our class:\n",
        "me.can_drive()"
      ],
      "metadata": {
        "colab": {
          "base_uri": "https://localhost:8080/"
        },
        "id": "dKIhoG9XdbnU",
        "outputId": "42346b37-9d8c-422a-8a2e-55efb3236c50"
      },
      "execution_count": 5,
      "outputs": [
        {
          "output_type": "execute_result",
          "data": {
            "text/plain": [
              "True"
            ]
          },
          "metadata": {},
          "execution_count": 5
        }
      ]
    },
    {
      "cell_type": "code",
      "source": [
        "# The __len__(self): function allows us to use python's built-in len function:\n",
        "print(me.name)\n",
        "print(len(me))"
      ],
      "metadata": {
        "colab": {
          "base_uri": "https://localhost:8080/"
        },
        "id": "aVi0EpK6dc_C",
        "outputId": "54d4692b-61a3-4c51-c0d2-036e6f1934c4"
      },
      "execution_count": 6,
      "outputs": [
        {
          "output_type": "stream",
          "name": "stdout",
          "text": [
            "Camille\n",
            "7\n"
          ]
        }
      ]
    },
    {
      "cell_type": "markdown",
      "source": [
        "With this background knowledge about what an object is we can build the objects needed for a Pytorch model."
      ],
      "metadata": {
        "id": "aolv72cgdgQR"
      }
    },
    {
      "cell_type": "markdown",
      "source": [
        "## 1. Dataset\n",
        "### What does our dataset look like?\n"
      ],
      "metadata": {
        "id": "6_0D3IZ7dmxV"
      }
    },
    {
      "cell_type": "code",
      "source": [
        "data_path = 'lipo_fp_processed.csv'"
      ],
      "metadata": {
        "id": "ud-AMK2PW1M6"
      },
      "execution_count": 7,
      "outputs": []
    },
    {
      "cell_type": "code",
      "source": [
        "df = pd.read_csv(data_path)\n",
        "df.head()"
      ],
      "metadata": {
        "id": "xZnAhgLldeXk",
        "colab": {
          "base_uri": "https://localhost:8080/",
          "height": 236
        },
        "outputId": "5b8f0271-7eae-43f1-aeaf-33bec04ff007"
      },
      "execution_count": 8,
      "outputs": [
        {
          "output_type": "execute_result",
          "data": {
            "text/plain": [
              "   0  1  2  3  4  5  6  7  8  9  ...  1015  1016  1017  1018  1019  1020  \\\n",
              "0  0  0  0  0  0  0  0  0  0  0  ...     0     0     0     0     0     0   \n",
              "1  0  0  0  0  0  0  0  0  0  0  ...     0     0     0     0     1     0   \n",
              "2  0  1  0  0  0  0  0  0  0  0  ...     0     0     0     0     0     0   \n",
              "3  0  1  0  0  0  1  0  0  0  0  ...     0     0     0     0     1     0   \n",
              "4  0  1  0  0  0  0  0  0  0  0  ...     0     0     0     0     0     0   \n",
              "\n",
              "   1021  1022  1023  lipo  \n",
              "0     0     0     0  3.54  \n",
              "1     0     0     0 -1.18  \n",
              "2     0     0     0  3.69  \n",
              "3     0     1     0  3.37  \n",
              "4     0     0     0  3.10  \n",
              "\n",
              "[5 rows x 1025 columns]"
            ],
            "text/html": [
              "\n",
              "  <div id=\"df-357d6fe4-aba5-4ef1-9c31-c368faf5f7b5\" class=\"colab-df-container\">\n",
              "    <div>\n",
              "<style scoped>\n",
              "    .dataframe tbody tr th:only-of-type {\n",
              "        vertical-align: middle;\n",
              "    }\n",
              "\n",
              "    .dataframe tbody tr th {\n",
              "        vertical-align: top;\n",
              "    }\n",
              "\n",
              "    .dataframe thead th {\n",
              "        text-align: right;\n",
              "    }\n",
              "</style>\n",
              "<table border=\"1\" class=\"dataframe\">\n",
              "  <thead>\n",
              "    <tr style=\"text-align: right;\">\n",
              "      <th></th>\n",
              "      <th>0</th>\n",
              "      <th>1</th>\n",
              "      <th>2</th>\n",
              "      <th>3</th>\n",
              "      <th>4</th>\n",
              "      <th>5</th>\n",
              "      <th>6</th>\n",
              "      <th>7</th>\n",
              "      <th>8</th>\n",
              "      <th>9</th>\n",
              "      <th>...</th>\n",
              "      <th>1015</th>\n",
              "      <th>1016</th>\n",
              "      <th>1017</th>\n",
              "      <th>1018</th>\n",
              "      <th>1019</th>\n",
              "      <th>1020</th>\n",
              "      <th>1021</th>\n",
              "      <th>1022</th>\n",
              "      <th>1023</th>\n",
              "      <th>lipo</th>\n",
              "    </tr>\n",
              "  </thead>\n",
              "  <tbody>\n",
              "    <tr>\n",
              "      <th>0</th>\n",
              "      <td>0</td>\n",
              "      <td>0</td>\n",
              "      <td>0</td>\n",
              "      <td>0</td>\n",
              "      <td>0</td>\n",
              "      <td>0</td>\n",
              "      <td>0</td>\n",
              "      <td>0</td>\n",
              "      <td>0</td>\n",
              "      <td>0</td>\n",
              "      <td>...</td>\n",
              "      <td>0</td>\n",
              "      <td>0</td>\n",
              "      <td>0</td>\n",
              "      <td>0</td>\n",
              "      <td>0</td>\n",
              "      <td>0</td>\n",
              "      <td>0</td>\n",
              "      <td>0</td>\n",
              "      <td>0</td>\n",
              "      <td>3.54</td>\n",
              "    </tr>\n",
              "    <tr>\n",
              "      <th>1</th>\n",
              "      <td>0</td>\n",
              "      <td>0</td>\n",
              "      <td>0</td>\n",
              "      <td>0</td>\n",
              "      <td>0</td>\n",
              "      <td>0</td>\n",
              "      <td>0</td>\n",
              "      <td>0</td>\n",
              "      <td>0</td>\n",
              "      <td>0</td>\n",
              "      <td>...</td>\n",
              "      <td>0</td>\n",
              "      <td>0</td>\n",
              "      <td>0</td>\n",
              "      <td>0</td>\n",
              "      <td>1</td>\n",
              "      <td>0</td>\n",
              "      <td>0</td>\n",
              "      <td>0</td>\n",
              "      <td>0</td>\n",
              "      <td>-1.18</td>\n",
              "    </tr>\n",
              "    <tr>\n",
              "      <th>2</th>\n",
              "      <td>0</td>\n",
              "      <td>1</td>\n",
              "      <td>0</td>\n",
              "      <td>0</td>\n",
              "      <td>0</td>\n",
              "      <td>0</td>\n",
              "      <td>0</td>\n",
              "      <td>0</td>\n",
              "      <td>0</td>\n",
              "      <td>0</td>\n",
              "      <td>...</td>\n",
              "      <td>0</td>\n",
              "      <td>0</td>\n",
              "      <td>0</td>\n",
              "      <td>0</td>\n",
              "      <td>0</td>\n",
              "      <td>0</td>\n",
              "      <td>0</td>\n",
              "      <td>0</td>\n",
              "      <td>0</td>\n",
              "      <td>3.69</td>\n",
              "    </tr>\n",
              "    <tr>\n",
              "      <th>3</th>\n",
              "      <td>0</td>\n",
              "      <td>1</td>\n",
              "      <td>0</td>\n",
              "      <td>0</td>\n",
              "      <td>0</td>\n",
              "      <td>1</td>\n",
              "      <td>0</td>\n",
              "      <td>0</td>\n",
              "      <td>0</td>\n",
              "      <td>0</td>\n",
              "      <td>...</td>\n",
              "      <td>0</td>\n",
              "      <td>0</td>\n",
              "      <td>0</td>\n",
              "      <td>0</td>\n",
              "      <td>1</td>\n",
              "      <td>0</td>\n",
              "      <td>0</td>\n",
              "      <td>1</td>\n",
              "      <td>0</td>\n",
              "      <td>3.37</td>\n",
              "    </tr>\n",
              "    <tr>\n",
              "      <th>4</th>\n",
              "      <td>0</td>\n",
              "      <td>1</td>\n",
              "      <td>0</td>\n",
              "      <td>0</td>\n",
              "      <td>0</td>\n",
              "      <td>0</td>\n",
              "      <td>0</td>\n",
              "      <td>0</td>\n",
              "      <td>0</td>\n",
              "      <td>0</td>\n",
              "      <td>...</td>\n",
              "      <td>0</td>\n",
              "      <td>0</td>\n",
              "      <td>0</td>\n",
              "      <td>0</td>\n",
              "      <td>0</td>\n",
              "      <td>0</td>\n",
              "      <td>0</td>\n",
              "      <td>0</td>\n",
              "      <td>0</td>\n",
              "      <td>3.10</td>\n",
              "    </tr>\n",
              "  </tbody>\n",
              "</table>\n",
              "<p>5 rows × 1025 columns</p>\n",
              "</div>\n",
              "    <div class=\"colab-df-buttons\">\n",
              "\n",
              "  <div class=\"colab-df-container\">\n",
              "    <button class=\"colab-df-convert\" onclick=\"convertToInteractive('df-357d6fe4-aba5-4ef1-9c31-c368faf5f7b5')\"\n",
              "            title=\"Convert this dataframe to an interactive table.\"\n",
              "            style=\"display:none;\">\n",
              "\n",
              "  <svg xmlns=\"http://www.w3.org/2000/svg\" height=\"24px\" viewBox=\"0 -960 960 960\">\n",
              "    <path d=\"M120-120v-720h720v720H120Zm60-500h600v-160H180v160Zm220 220h160v-160H400v160Zm0 220h160v-160H400v160ZM180-400h160v-160H180v160Zm440 0h160v-160H620v160ZM180-180h160v-160H180v160Zm440 0h160v-160H620v160Z\"/>\n",
              "  </svg>\n",
              "    </button>\n",
              "\n",
              "  <style>\n",
              "    .colab-df-container {\n",
              "      display:flex;\n",
              "      gap: 12px;\n",
              "    }\n",
              "\n",
              "    .colab-df-convert {\n",
              "      background-color: #E8F0FE;\n",
              "      border: none;\n",
              "      border-radius: 50%;\n",
              "      cursor: pointer;\n",
              "      display: none;\n",
              "      fill: #1967D2;\n",
              "      height: 32px;\n",
              "      padding: 0 0 0 0;\n",
              "      width: 32px;\n",
              "    }\n",
              "\n",
              "    .colab-df-convert:hover {\n",
              "      background-color: #E2EBFA;\n",
              "      box-shadow: 0px 1px 2px rgba(60, 64, 67, 0.3), 0px 1px 3px 1px rgba(60, 64, 67, 0.15);\n",
              "      fill: #174EA6;\n",
              "    }\n",
              "\n",
              "    .colab-df-buttons div {\n",
              "      margin-bottom: 4px;\n",
              "    }\n",
              "\n",
              "    [theme=dark] .colab-df-convert {\n",
              "      background-color: #3B4455;\n",
              "      fill: #D2E3FC;\n",
              "    }\n",
              "\n",
              "    [theme=dark] .colab-df-convert:hover {\n",
              "      background-color: #434B5C;\n",
              "      box-shadow: 0px 1px 3px 1px rgba(0, 0, 0, 0.15);\n",
              "      filter: drop-shadow(0px 1px 2px rgba(0, 0, 0, 0.3));\n",
              "      fill: #FFFFFF;\n",
              "    }\n",
              "  </style>\n",
              "\n",
              "    <script>\n",
              "      const buttonEl =\n",
              "        document.querySelector('#df-357d6fe4-aba5-4ef1-9c31-c368faf5f7b5 button.colab-df-convert');\n",
              "      buttonEl.style.display =\n",
              "        google.colab.kernel.accessAllowed ? 'block' : 'none';\n",
              "\n",
              "      async function convertToInteractive(key) {\n",
              "        const element = document.querySelector('#df-357d6fe4-aba5-4ef1-9c31-c368faf5f7b5');\n",
              "        const dataTable =\n",
              "          await google.colab.kernel.invokeFunction('convertToInteractive',\n",
              "                                                    [key], {});\n",
              "        if (!dataTable) return;\n",
              "\n",
              "        const docLinkHtml = 'Like what you see? Visit the ' +\n",
              "          '<a target=\"_blank\" href=https://colab.research.google.com/notebooks/data_table.ipynb>data table notebook</a>'\n",
              "          + ' to learn more about interactive tables.';\n",
              "        element.innerHTML = '';\n",
              "        dataTable['output_type'] = 'display_data';\n",
              "        await google.colab.output.renderOutput(dataTable, element);\n",
              "        const docLink = document.createElement('div');\n",
              "        docLink.innerHTML = docLinkHtml;\n",
              "        element.appendChild(docLink);\n",
              "      }\n",
              "    </script>\n",
              "  </div>\n",
              "\n",
              "\n",
              "    <div id=\"df-21b3da25-559f-477f-a99c-1d980a95837d\">\n",
              "      <button class=\"colab-df-quickchart\" onclick=\"quickchart('df-21b3da25-559f-477f-a99c-1d980a95837d')\"\n",
              "                title=\"Suggest charts\"\n",
              "                style=\"display:none;\">\n",
              "\n",
              "<svg xmlns=\"http://www.w3.org/2000/svg\" height=\"24px\"viewBox=\"0 0 24 24\"\n",
              "     width=\"24px\">\n",
              "    <g>\n",
              "        <path d=\"M19 3H5c-1.1 0-2 .9-2 2v14c0 1.1.9 2 2 2h14c1.1 0 2-.9 2-2V5c0-1.1-.9-2-2-2zM9 17H7v-7h2v7zm4 0h-2V7h2v10zm4 0h-2v-4h2v4z\"/>\n",
              "    </g>\n",
              "</svg>\n",
              "      </button>\n",
              "\n",
              "<style>\n",
              "  .colab-df-quickchart {\n",
              "      --bg-color: #E8F0FE;\n",
              "      --fill-color: #1967D2;\n",
              "      --hover-bg-color: #E2EBFA;\n",
              "      --hover-fill-color: #174EA6;\n",
              "      --disabled-fill-color: #AAA;\n",
              "      --disabled-bg-color: #DDD;\n",
              "  }\n",
              "\n",
              "  [theme=dark] .colab-df-quickchart {\n",
              "      --bg-color: #3B4455;\n",
              "      --fill-color: #D2E3FC;\n",
              "      --hover-bg-color: #434B5C;\n",
              "      --hover-fill-color: #FFFFFF;\n",
              "      --disabled-bg-color: #3B4455;\n",
              "      --disabled-fill-color: #666;\n",
              "  }\n",
              "\n",
              "  .colab-df-quickchart {\n",
              "    background-color: var(--bg-color);\n",
              "    border: none;\n",
              "    border-radius: 50%;\n",
              "    cursor: pointer;\n",
              "    display: none;\n",
              "    fill: var(--fill-color);\n",
              "    height: 32px;\n",
              "    padding: 0;\n",
              "    width: 32px;\n",
              "  }\n",
              "\n",
              "  .colab-df-quickchart:hover {\n",
              "    background-color: var(--hover-bg-color);\n",
              "    box-shadow: 0 1px 2px rgba(60, 64, 67, 0.3), 0 1px 3px 1px rgba(60, 64, 67, 0.15);\n",
              "    fill: var(--button-hover-fill-color);\n",
              "  }\n",
              "\n",
              "  .colab-df-quickchart-complete:disabled,\n",
              "  .colab-df-quickchart-complete:disabled:hover {\n",
              "    background-color: var(--disabled-bg-color);\n",
              "    fill: var(--disabled-fill-color);\n",
              "    box-shadow: none;\n",
              "  }\n",
              "\n",
              "  .colab-df-spinner {\n",
              "    border: 2px solid var(--fill-color);\n",
              "    border-color: transparent;\n",
              "    border-bottom-color: var(--fill-color);\n",
              "    animation:\n",
              "      spin 1s steps(1) infinite;\n",
              "  }\n",
              "\n",
              "  @keyframes spin {\n",
              "    0% {\n",
              "      border-color: transparent;\n",
              "      border-bottom-color: var(--fill-color);\n",
              "      border-left-color: var(--fill-color);\n",
              "    }\n",
              "    20% {\n",
              "      border-color: transparent;\n",
              "      border-left-color: var(--fill-color);\n",
              "      border-top-color: var(--fill-color);\n",
              "    }\n",
              "    30% {\n",
              "      border-color: transparent;\n",
              "      border-left-color: var(--fill-color);\n",
              "      border-top-color: var(--fill-color);\n",
              "      border-right-color: var(--fill-color);\n",
              "    }\n",
              "    40% {\n",
              "      border-color: transparent;\n",
              "      border-right-color: var(--fill-color);\n",
              "      border-top-color: var(--fill-color);\n",
              "    }\n",
              "    60% {\n",
              "      border-color: transparent;\n",
              "      border-right-color: var(--fill-color);\n",
              "    }\n",
              "    80% {\n",
              "      border-color: transparent;\n",
              "      border-right-color: var(--fill-color);\n",
              "      border-bottom-color: var(--fill-color);\n",
              "    }\n",
              "    90% {\n",
              "      border-color: transparent;\n",
              "      border-bottom-color: var(--fill-color);\n",
              "    }\n",
              "  }\n",
              "</style>\n",
              "\n",
              "      <script>\n",
              "        async function quickchart(key) {\n",
              "          const quickchartButtonEl =\n",
              "            document.querySelector('#' + key + ' button');\n",
              "          quickchartButtonEl.disabled = true;  // To prevent multiple clicks.\n",
              "          quickchartButtonEl.classList.add('colab-df-spinner');\n",
              "          try {\n",
              "            const charts = await google.colab.kernel.invokeFunction(\n",
              "                'suggestCharts', [key], {});\n",
              "          } catch (error) {\n",
              "            console.error('Error during call to suggestCharts:', error);\n",
              "          }\n",
              "          quickchartButtonEl.classList.remove('colab-df-spinner');\n",
              "          quickchartButtonEl.classList.add('colab-df-quickchart-complete');\n",
              "        }\n",
              "        (() => {\n",
              "          let quickchartButtonEl =\n",
              "            document.querySelector('#df-21b3da25-559f-477f-a99c-1d980a95837d button');\n",
              "          quickchartButtonEl.style.display =\n",
              "            google.colab.kernel.accessAllowed ? 'block' : 'none';\n",
              "        })();\n",
              "      </script>\n",
              "    </div>\n",
              "\n",
              "    </div>\n",
              "  </div>\n"
            ],
            "application/vnd.google.colaboratory.intrinsic+json": {
              "type": "dataframe",
              "variable_name": "df"
            }
          },
          "metadata": {},
          "execution_count": 8
        }
      ]
    },
    {
      "cell_type": "markdown",
      "source": [
        "### The first 2048 columns contain bits of information about the input molecule. The last column contains information about how strongly that molecule binds to the protein.\n",
        "\n",
        "### Let's define a PyTorch dataset object to read in this data:"
      ],
      "metadata": {
        "id": "D53NgfOQXCJB"
      }
    },
    {
      "cell_type": "code",
      "source": [
        "# by calling Dataset (which we imported in the first cell) we build in all of the attributes of the pytorch Dataset object:\n",
        "class LipoDataset(Dataset):\n",
        "    def __init__(\n",
        "        self,\n",
        "        path,  # when we build the dataset, \"path\" will be a required input variable\n",
        "    ):\n",
        "        # read a csv from that path:\n",
        "        self.df = pd.read_csv(path)\n",
        "\n",
        "        # assign dataset attribute \"input_vectors\" to be the 2048 bit vector representing each molecule:\n",
        "        self.input_vectors = self.df[self.df.columns[0:-1]].values\n",
        "\n",
        "        # assign dataset attribute \"output_targets\" to be the scalar representing binding strength (last column):\n",
        "        self.output_targets = self.df[self.df.columns[-1]].values\n",
        "\n",
        "    # __len__(self) is a required method for the Dataset class; it must output the number of samples (in our case, 9880):\n",
        "    def __len__(\n",
        "        self,\n",
        "    ):\n",
        "        return len(self.output_targets)\n",
        "\n",
        "    # __getitem__(self, idx) is a required method for the Dataset clas; it takes in an index \"idx\" to indicate the sample number:\n",
        "    def __getitem__(self, idx):\n",
        "        x = self.input_vectors[idx]\n",
        "        y = self.output_targets[idx]\n",
        "\n",
        "        return torch.tensor(x, dtype=torch.float32), torch.tensor(\n",
        "            y, dtype=torch.float32\n",
        "        )"
      ],
      "metadata": {
        "id": "I4TkylLyWPG_"
      },
      "execution_count": 9,
      "outputs": []
    },
    {
      "cell_type": "markdown",
      "source": [
        "### Let's test out our new dataset object:"
      ],
      "metadata": {
        "id": "DU77aSk3XI4J"
      }
    },
    {
      "cell_type": "code",
      "source": [
        "dataset = LipoDataset(data_path)"
      ],
      "metadata": {
        "id": "c6Y0ba1JXDZO"
      },
      "execution_count": 10,
      "outputs": []
    },
    {
      "cell_type": "code",
      "source": [
        "print(dataset)"
      ],
      "metadata": {
        "colab": {
          "base_uri": "https://localhost:8080/"
        },
        "id": "B1cTM6zvXKm5",
        "outputId": "0e030638-ebfe-4532-bdf3-af96004cc092"
      },
      "execution_count": 11,
      "outputs": [
        {
          "output_type": "stream",
          "name": "stdout",
          "text": [
            "<__main__.LipoDataset object at 0x7bee3ab621d0>\n"
          ]
        }
      ]
    },
    {
      "cell_type": "code",
      "source": [
        "dataset.df.head()"
      ],
      "metadata": {
        "colab": {
          "base_uri": "https://localhost:8080/",
          "height": 236
        },
        "id": "4hTQAiqoXVS8",
        "outputId": "4ab2e73a-40bb-4b18-a619-ee74aff5bdae"
      },
      "execution_count": 12,
      "outputs": [
        {
          "output_type": "execute_result",
          "data": {
            "text/plain": [
              "   0  1  2  3  4  5  6  7  8  9  ...  1015  1016  1017  1018  1019  1020  \\\n",
              "0  0  0  0  0  0  0  0  0  0  0  ...     0     0     0     0     0     0   \n",
              "1  0  0  0  0  0  0  0  0  0  0  ...     0     0     0     0     1     0   \n",
              "2  0  1  0  0  0  0  0  0  0  0  ...     0     0     0     0     0     0   \n",
              "3  0  1  0  0  0  1  0  0  0  0  ...     0     0     0     0     1     0   \n",
              "4  0  1  0  0  0  0  0  0  0  0  ...     0     0     0     0     0     0   \n",
              "\n",
              "   1021  1022  1023  lipo  \n",
              "0     0     0     0  3.54  \n",
              "1     0     0     0 -1.18  \n",
              "2     0     0     0  3.69  \n",
              "3     0     1     0  3.37  \n",
              "4     0     0     0  3.10  \n",
              "\n",
              "[5 rows x 1025 columns]"
            ],
            "text/html": [
              "\n",
              "  <div id=\"df-40169c32-ffbe-4eb3-be05-b229812dca86\" class=\"colab-df-container\">\n",
              "    <div>\n",
              "<style scoped>\n",
              "    .dataframe tbody tr th:only-of-type {\n",
              "        vertical-align: middle;\n",
              "    }\n",
              "\n",
              "    .dataframe tbody tr th {\n",
              "        vertical-align: top;\n",
              "    }\n",
              "\n",
              "    .dataframe thead th {\n",
              "        text-align: right;\n",
              "    }\n",
              "</style>\n",
              "<table border=\"1\" class=\"dataframe\">\n",
              "  <thead>\n",
              "    <tr style=\"text-align: right;\">\n",
              "      <th></th>\n",
              "      <th>0</th>\n",
              "      <th>1</th>\n",
              "      <th>2</th>\n",
              "      <th>3</th>\n",
              "      <th>4</th>\n",
              "      <th>5</th>\n",
              "      <th>6</th>\n",
              "      <th>7</th>\n",
              "      <th>8</th>\n",
              "      <th>9</th>\n",
              "      <th>...</th>\n",
              "      <th>1015</th>\n",
              "      <th>1016</th>\n",
              "      <th>1017</th>\n",
              "      <th>1018</th>\n",
              "      <th>1019</th>\n",
              "      <th>1020</th>\n",
              "      <th>1021</th>\n",
              "      <th>1022</th>\n",
              "      <th>1023</th>\n",
              "      <th>lipo</th>\n",
              "    </tr>\n",
              "  </thead>\n",
              "  <tbody>\n",
              "    <tr>\n",
              "      <th>0</th>\n",
              "      <td>0</td>\n",
              "      <td>0</td>\n",
              "      <td>0</td>\n",
              "      <td>0</td>\n",
              "      <td>0</td>\n",
              "      <td>0</td>\n",
              "      <td>0</td>\n",
              "      <td>0</td>\n",
              "      <td>0</td>\n",
              "      <td>0</td>\n",
              "      <td>...</td>\n",
              "      <td>0</td>\n",
              "      <td>0</td>\n",
              "      <td>0</td>\n",
              "      <td>0</td>\n",
              "      <td>0</td>\n",
              "      <td>0</td>\n",
              "      <td>0</td>\n",
              "      <td>0</td>\n",
              "      <td>0</td>\n",
              "      <td>3.54</td>\n",
              "    </tr>\n",
              "    <tr>\n",
              "      <th>1</th>\n",
              "      <td>0</td>\n",
              "      <td>0</td>\n",
              "      <td>0</td>\n",
              "      <td>0</td>\n",
              "      <td>0</td>\n",
              "      <td>0</td>\n",
              "      <td>0</td>\n",
              "      <td>0</td>\n",
              "      <td>0</td>\n",
              "      <td>0</td>\n",
              "      <td>...</td>\n",
              "      <td>0</td>\n",
              "      <td>0</td>\n",
              "      <td>0</td>\n",
              "      <td>0</td>\n",
              "      <td>1</td>\n",
              "      <td>0</td>\n",
              "      <td>0</td>\n",
              "      <td>0</td>\n",
              "      <td>0</td>\n",
              "      <td>-1.18</td>\n",
              "    </tr>\n",
              "    <tr>\n",
              "      <th>2</th>\n",
              "      <td>0</td>\n",
              "      <td>1</td>\n",
              "      <td>0</td>\n",
              "      <td>0</td>\n",
              "      <td>0</td>\n",
              "      <td>0</td>\n",
              "      <td>0</td>\n",
              "      <td>0</td>\n",
              "      <td>0</td>\n",
              "      <td>0</td>\n",
              "      <td>...</td>\n",
              "      <td>0</td>\n",
              "      <td>0</td>\n",
              "      <td>0</td>\n",
              "      <td>0</td>\n",
              "      <td>0</td>\n",
              "      <td>0</td>\n",
              "      <td>0</td>\n",
              "      <td>0</td>\n",
              "      <td>0</td>\n",
              "      <td>3.69</td>\n",
              "    </tr>\n",
              "    <tr>\n",
              "      <th>3</th>\n",
              "      <td>0</td>\n",
              "      <td>1</td>\n",
              "      <td>0</td>\n",
              "      <td>0</td>\n",
              "      <td>0</td>\n",
              "      <td>1</td>\n",
              "      <td>0</td>\n",
              "      <td>0</td>\n",
              "      <td>0</td>\n",
              "      <td>0</td>\n",
              "      <td>...</td>\n",
              "      <td>0</td>\n",
              "      <td>0</td>\n",
              "      <td>0</td>\n",
              "      <td>0</td>\n",
              "      <td>1</td>\n",
              "      <td>0</td>\n",
              "      <td>0</td>\n",
              "      <td>1</td>\n",
              "      <td>0</td>\n",
              "      <td>3.37</td>\n",
              "    </tr>\n",
              "    <tr>\n",
              "      <th>4</th>\n",
              "      <td>0</td>\n",
              "      <td>1</td>\n",
              "      <td>0</td>\n",
              "      <td>0</td>\n",
              "      <td>0</td>\n",
              "      <td>0</td>\n",
              "      <td>0</td>\n",
              "      <td>0</td>\n",
              "      <td>0</td>\n",
              "      <td>0</td>\n",
              "      <td>...</td>\n",
              "      <td>0</td>\n",
              "      <td>0</td>\n",
              "      <td>0</td>\n",
              "      <td>0</td>\n",
              "      <td>0</td>\n",
              "      <td>0</td>\n",
              "      <td>0</td>\n",
              "      <td>0</td>\n",
              "      <td>0</td>\n",
              "      <td>3.10</td>\n",
              "    </tr>\n",
              "  </tbody>\n",
              "</table>\n",
              "<p>5 rows × 1025 columns</p>\n",
              "</div>\n",
              "    <div class=\"colab-df-buttons\">\n",
              "\n",
              "  <div class=\"colab-df-container\">\n",
              "    <button class=\"colab-df-convert\" onclick=\"convertToInteractive('df-40169c32-ffbe-4eb3-be05-b229812dca86')\"\n",
              "            title=\"Convert this dataframe to an interactive table.\"\n",
              "            style=\"display:none;\">\n",
              "\n",
              "  <svg xmlns=\"http://www.w3.org/2000/svg\" height=\"24px\" viewBox=\"0 -960 960 960\">\n",
              "    <path d=\"M120-120v-720h720v720H120Zm60-500h600v-160H180v160Zm220 220h160v-160H400v160Zm0 220h160v-160H400v160ZM180-400h160v-160H180v160Zm440 0h160v-160H620v160ZM180-180h160v-160H180v160Zm440 0h160v-160H620v160Z\"/>\n",
              "  </svg>\n",
              "    </button>\n",
              "\n",
              "  <style>\n",
              "    .colab-df-container {\n",
              "      display:flex;\n",
              "      gap: 12px;\n",
              "    }\n",
              "\n",
              "    .colab-df-convert {\n",
              "      background-color: #E8F0FE;\n",
              "      border: none;\n",
              "      border-radius: 50%;\n",
              "      cursor: pointer;\n",
              "      display: none;\n",
              "      fill: #1967D2;\n",
              "      height: 32px;\n",
              "      padding: 0 0 0 0;\n",
              "      width: 32px;\n",
              "    }\n",
              "\n",
              "    .colab-df-convert:hover {\n",
              "      background-color: #E2EBFA;\n",
              "      box-shadow: 0px 1px 2px rgba(60, 64, 67, 0.3), 0px 1px 3px 1px rgba(60, 64, 67, 0.15);\n",
              "      fill: #174EA6;\n",
              "    }\n",
              "\n",
              "    .colab-df-buttons div {\n",
              "      margin-bottom: 4px;\n",
              "    }\n",
              "\n",
              "    [theme=dark] .colab-df-convert {\n",
              "      background-color: #3B4455;\n",
              "      fill: #D2E3FC;\n",
              "    }\n",
              "\n",
              "    [theme=dark] .colab-df-convert:hover {\n",
              "      background-color: #434B5C;\n",
              "      box-shadow: 0px 1px 3px 1px rgba(0, 0, 0, 0.15);\n",
              "      filter: drop-shadow(0px 1px 2px rgba(0, 0, 0, 0.3));\n",
              "      fill: #FFFFFF;\n",
              "    }\n",
              "  </style>\n",
              "\n",
              "    <script>\n",
              "      const buttonEl =\n",
              "        document.querySelector('#df-40169c32-ffbe-4eb3-be05-b229812dca86 button.colab-df-convert');\n",
              "      buttonEl.style.display =\n",
              "        google.colab.kernel.accessAllowed ? 'block' : 'none';\n",
              "\n",
              "      async function convertToInteractive(key) {\n",
              "        const element = document.querySelector('#df-40169c32-ffbe-4eb3-be05-b229812dca86');\n",
              "        const dataTable =\n",
              "          await google.colab.kernel.invokeFunction('convertToInteractive',\n",
              "                                                    [key], {});\n",
              "        if (!dataTable) return;\n",
              "\n",
              "        const docLinkHtml = 'Like what you see? Visit the ' +\n",
              "          '<a target=\"_blank\" href=https://colab.research.google.com/notebooks/data_table.ipynb>data table notebook</a>'\n",
              "          + ' to learn more about interactive tables.';\n",
              "        element.innerHTML = '';\n",
              "        dataTable['output_type'] = 'display_data';\n",
              "        await google.colab.output.renderOutput(dataTable, element);\n",
              "        const docLink = document.createElement('div');\n",
              "        docLink.innerHTML = docLinkHtml;\n",
              "        element.appendChild(docLink);\n",
              "      }\n",
              "    </script>\n",
              "  </div>\n",
              "\n",
              "\n",
              "    <div id=\"df-e061ee91-8046-4fda-86db-a6f1d93ec44f\">\n",
              "      <button class=\"colab-df-quickchart\" onclick=\"quickchart('df-e061ee91-8046-4fda-86db-a6f1d93ec44f')\"\n",
              "                title=\"Suggest charts\"\n",
              "                style=\"display:none;\">\n",
              "\n",
              "<svg xmlns=\"http://www.w3.org/2000/svg\" height=\"24px\"viewBox=\"0 0 24 24\"\n",
              "     width=\"24px\">\n",
              "    <g>\n",
              "        <path d=\"M19 3H5c-1.1 0-2 .9-2 2v14c0 1.1.9 2 2 2h14c1.1 0 2-.9 2-2V5c0-1.1-.9-2-2-2zM9 17H7v-7h2v7zm4 0h-2V7h2v10zm4 0h-2v-4h2v4z\"/>\n",
              "    </g>\n",
              "</svg>\n",
              "      </button>\n",
              "\n",
              "<style>\n",
              "  .colab-df-quickchart {\n",
              "      --bg-color: #E8F0FE;\n",
              "      --fill-color: #1967D2;\n",
              "      --hover-bg-color: #E2EBFA;\n",
              "      --hover-fill-color: #174EA6;\n",
              "      --disabled-fill-color: #AAA;\n",
              "      --disabled-bg-color: #DDD;\n",
              "  }\n",
              "\n",
              "  [theme=dark] .colab-df-quickchart {\n",
              "      --bg-color: #3B4455;\n",
              "      --fill-color: #D2E3FC;\n",
              "      --hover-bg-color: #434B5C;\n",
              "      --hover-fill-color: #FFFFFF;\n",
              "      --disabled-bg-color: #3B4455;\n",
              "      --disabled-fill-color: #666;\n",
              "  }\n",
              "\n",
              "  .colab-df-quickchart {\n",
              "    background-color: var(--bg-color);\n",
              "    border: none;\n",
              "    border-radius: 50%;\n",
              "    cursor: pointer;\n",
              "    display: none;\n",
              "    fill: var(--fill-color);\n",
              "    height: 32px;\n",
              "    padding: 0;\n",
              "    width: 32px;\n",
              "  }\n",
              "\n",
              "  .colab-df-quickchart:hover {\n",
              "    background-color: var(--hover-bg-color);\n",
              "    box-shadow: 0 1px 2px rgba(60, 64, 67, 0.3), 0 1px 3px 1px rgba(60, 64, 67, 0.15);\n",
              "    fill: var(--button-hover-fill-color);\n",
              "  }\n",
              "\n",
              "  .colab-df-quickchart-complete:disabled,\n",
              "  .colab-df-quickchart-complete:disabled:hover {\n",
              "    background-color: var(--disabled-bg-color);\n",
              "    fill: var(--disabled-fill-color);\n",
              "    box-shadow: none;\n",
              "  }\n",
              "\n",
              "  .colab-df-spinner {\n",
              "    border: 2px solid var(--fill-color);\n",
              "    border-color: transparent;\n",
              "    border-bottom-color: var(--fill-color);\n",
              "    animation:\n",
              "      spin 1s steps(1) infinite;\n",
              "  }\n",
              "\n",
              "  @keyframes spin {\n",
              "    0% {\n",
              "      border-color: transparent;\n",
              "      border-bottom-color: var(--fill-color);\n",
              "      border-left-color: var(--fill-color);\n",
              "    }\n",
              "    20% {\n",
              "      border-color: transparent;\n",
              "      border-left-color: var(--fill-color);\n",
              "      border-top-color: var(--fill-color);\n",
              "    }\n",
              "    30% {\n",
              "      border-color: transparent;\n",
              "      border-left-color: var(--fill-color);\n",
              "      border-top-color: var(--fill-color);\n",
              "      border-right-color: var(--fill-color);\n",
              "    }\n",
              "    40% {\n",
              "      border-color: transparent;\n",
              "      border-right-color: var(--fill-color);\n",
              "      border-top-color: var(--fill-color);\n",
              "    }\n",
              "    60% {\n",
              "      border-color: transparent;\n",
              "      border-right-color: var(--fill-color);\n",
              "    }\n",
              "    80% {\n",
              "      border-color: transparent;\n",
              "      border-right-color: var(--fill-color);\n",
              "      border-bottom-color: var(--fill-color);\n",
              "    }\n",
              "    90% {\n",
              "      border-color: transparent;\n",
              "      border-bottom-color: var(--fill-color);\n",
              "    }\n",
              "  }\n",
              "</style>\n",
              "\n",
              "      <script>\n",
              "        async function quickchart(key) {\n",
              "          const quickchartButtonEl =\n",
              "            document.querySelector('#' + key + ' button');\n",
              "          quickchartButtonEl.disabled = true;  // To prevent multiple clicks.\n",
              "          quickchartButtonEl.classList.add('colab-df-spinner');\n",
              "          try {\n",
              "            const charts = await google.colab.kernel.invokeFunction(\n",
              "                'suggestCharts', [key], {});\n",
              "          } catch (error) {\n",
              "            console.error('Error during call to suggestCharts:', error);\n",
              "          }\n",
              "          quickchartButtonEl.classList.remove('colab-df-spinner');\n",
              "          quickchartButtonEl.classList.add('colab-df-quickchart-complete');\n",
              "        }\n",
              "        (() => {\n",
              "          let quickchartButtonEl =\n",
              "            document.querySelector('#df-e061ee91-8046-4fda-86db-a6f1d93ec44f button');\n",
              "          quickchartButtonEl.style.display =\n",
              "            google.colab.kernel.accessAllowed ? 'block' : 'none';\n",
              "        })();\n",
              "      </script>\n",
              "    </div>\n",
              "\n",
              "    </div>\n",
              "  </div>\n"
            ],
            "application/vnd.google.colaboratory.intrinsic+json": {
              "type": "dataframe"
            }
          },
          "metadata": {},
          "execution_count": 12
        }
      ]
    },
    {
      "cell_type": "code",
      "source": [
        "len(dataset)"
      ],
      "metadata": {
        "colab": {
          "base_uri": "https://localhost:8080/"
        },
        "id": "lvQuwqD-XXuR",
        "outputId": "3b15b17d-82a9-4cd6-c233-a7bf50c30bd4"
      },
      "execution_count": 13,
      "outputs": [
        {
          "output_type": "execute_result",
          "data": {
            "text/plain": [
              "4200"
            ]
          },
          "metadata": {},
          "execution_count": 13
        }
      ]
    },
    {
      "cell_type": "markdown",
      "source": [
        "## 2. Model"
      ],
      "metadata": {
        "id": "790e-XHDXaDE"
      }
    },
    {
      "cell_type": "code",
      "source": [
        "# Similarly, we can define our model as an object that is based on the existing PyTorch object \"nn.Module\":\n",
        "class FCNN(nn.Module):\n",
        "\n",
        "    # We can set up our model to take in an optional input \"hidden_layer_size\":\n",
        "    def __init__(self, hidden_layer_size=256):\n",
        "        super(FCNN, self).__init__()\n",
        "\n",
        "        # Each layer in our network is an attribute of the model:\n",
        "        self.layer1 = nn.Linear(1024, hidden_layer_size)\n",
        "        self.layer2 = nn.Linear(hidden_layer_size, hidden_layer_size)\n",
        "        self.layer3 = nn.Linear(hidden_layer_size, hidden_layer_size)\n",
        "        self.layer4 = nn.Linear(hidden_layer_size, 1)\n",
        "\n",
        "    # PyTorch models require a \"forward\" method which tells PyTorch how to take an input and put it through the layers to reach the output:\n",
        "    def forward(self, x):\n",
        "        x = self.layer1(x)\n",
        "        x = F.relu(x)\n",
        "        x = self.layer2(x)\n",
        "        x = F.relu(x)\n",
        "        x = self.layer3(x)\n",
        "        x = F.relu(x)\n",
        "        x = self.layer4(x)\n",
        "        # x = F.relu(x)\n",
        "\n",
        "        # We do not need an activation function after the last layer for a regression problem:\n",
        "\n",
        "        return x"
      ],
      "metadata": {
        "id": "BgJm6X9NXY9Z"
      },
      "execution_count": 14,
      "outputs": []
    },
    {
      "cell_type": "markdown",
      "source": [
        "### Let's test out our new model object:"
      ],
      "metadata": {
        "id": "BHo4xMEMX1CS"
      }
    },
    {
      "cell_type": "code",
      "source": [
        "model = FCNN()"
      ],
      "metadata": {
        "id": "-VbSeKwyXzp2"
      },
      "execution_count": 15,
      "outputs": []
    },
    {
      "cell_type": "code",
      "source": [
        "print(model)"
      ],
      "metadata": {
        "colab": {
          "base_uri": "https://localhost:8080/"
        },
        "id": "MEHvItllX3ok",
        "outputId": "dbd32c13-fa37-41a5-9a5d-d70711aecb84"
      },
      "execution_count": 16,
      "outputs": [
        {
          "output_type": "stream",
          "name": "stdout",
          "text": [
            "FCNN(\n",
            "  (layer1): Linear(in_features=1024, out_features=256, bias=True)\n",
            "  (layer2): Linear(in_features=256, out_features=256, bias=True)\n",
            "  (layer3): Linear(in_features=256, out_features=256, bias=True)\n",
            "  (layer4): Linear(in_features=256, out_features=1, bias=True)\n",
            ")\n"
          ]
        }
      ]
    },
    {
      "cell_type": "code",
      "source": [
        "# We can easily change the size of the hidden_layer:\n",
        "model = FCNN(512)\n",
        "print(model)"
      ],
      "metadata": {
        "colab": {
          "base_uri": "https://localhost:8080/"
        },
        "id": "mvw7LKXPX4iC",
        "outputId": "a1664102-a118-44d3-a9a8-6c7e50157451"
      },
      "execution_count": 17,
      "outputs": [
        {
          "output_type": "stream",
          "name": "stdout",
          "text": [
            "FCNN(\n",
            "  (layer1): Linear(in_features=1024, out_features=512, bias=True)\n",
            "  (layer2): Linear(in_features=512, out_features=512, bias=True)\n",
            "  (layer3): Linear(in_features=512, out_features=512, bias=True)\n",
            "  (layer4): Linear(in_features=512, out_features=1, bias=True)\n",
            ")\n"
          ]
        }
      ]
    },
    {
      "cell_type": "markdown",
      "source": [
        "## 3. Train Routine:"
      ],
      "metadata": {
        "id": "iscDWOEHX78N"
      }
    },
    {
      "cell_type": "code",
      "source": [
        "def train(model, device, train_dataloader, optim):\n",
        "    \"\"\"\n",
        "    model: torch.nn.Module; PyTorch model (FCNN)\n",
        "    device: torch.device; device to be used for training (usually cpu)\n",
        "    train_dataloader: torch.utils.data.DataLoader; dataloader object for training set\n",
        "    optim: torch.optim; PyTorch optimizer\n",
        "    \"\"\"\n",
        "\n",
        "    # Set the model to training mode:\n",
        "    model.train()\n",
        "\n",
        "    # Define loss function:\n",
        "    l1_loss_fn = torch.nn.L1Loss(reduction=\"sum\")\n",
        "\n",
        "    # Create a loss variable to keep track of total losses in the test set\n",
        "    loss_collect = 0\n",
        "\n",
        "    # Looping over the dataloader allows us to pull out or input/output data:\n",
        "    # Enumerate allows us to also get the batch number:\n",
        "    for b_i, (X, y) in enumerate(train_dataloader):\n",
        "\n",
        "        # Assign X and y to the appropriate device:\n",
        "        X, y = X.to(device), y.to(device)\n",
        "\n",
        "        # Zero out the optimizer:\n",
        "        optim.zero_grad()\n",
        "\n",
        "        # Make a prediction:\n",
        "        pred_prob = model(X)\n",
        "\n",
        "        # Calculate the loss:\n",
        "        loss = l1_loss_fn(pred_prob, y.view(-1, 1))\n",
        "\n",
        "        # Backpropagation:\n",
        "        loss.backward()\n",
        "        optim.step()\n",
        "\n",
        "        # Calculate the loss and add it to our total loss\n",
        "        loss_collect += loss.item()  # loss summed across the batch\n",
        "\n",
        "    # Return our normalized losses so we can analyze them later:\n",
        "    loss_collect /= len(train_dataloader.dataset)\n",
        "    return loss_collect"
      ],
      "metadata": {
        "id": "QhRZP4fUX6K7"
      },
      "execution_count": 18,
      "outputs": []
    },
    {
      "cell_type": "markdown",
      "source": [
        "### *Note: Ultimately it is useful to test this using an IDE with a debugger (e.g. Spyder or PyCharm) instead of a notebook, so that you can look inside these functions\n",
        "\n",
        "## 4. Validation Routine:"
      ],
      "metadata": {
        "id": "9FgHZzm9YED0"
      }
    },
    {
      "cell_type": "code",
      "source": [
        "def validation(model, device, val_dataloader, epoch):\n",
        "\n",
        "    # Set our model to evaluation mode:\n",
        "    model.eval()\n",
        "\n",
        "    # Create a loss variable to keep track of total losses in the test set\n",
        "    loss_collect = 0\n",
        "\n",
        "    # Define loss function:\n",
        "    l1_loss_fn = torch.nn.L1Loss(reduction=\"sum\")\n",
        "\n",
        "    # Remove gradients:\n",
        "    with torch.no_grad():\n",
        "\n",
        "        # Looping over the dataloader allows us to pull out or input/output data:\n",
        "        for X, y in val_dataloader:\n",
        "\n",
        "            # Assign X and y to the appropriate device:\n",
        "            X, y = X.to(device), y.to(device)\n",
        "\n",
        "            # Make a prediction:\n",
        "            pred_prob = model(X)\n",
        "\n",
        "            # Calculate the loss and add it to our total loss\n",
        "            loss_collect += l1_loss_fn(\n",
        "                pred_prob, y.view(-1, 1)\n",
        "            ).item()  # loss summed across the batch\n",
        "\n",
        "    loss_collect /= len(val_dataloader.dataset)\n",
        "    # Print out our test loss so we know how things are going\n",
        "    print(\n",
        "        \"\\nEpoch:{}   Validation dataset: Loss per Datapoint: {:.4f}\".format(\n",
        "            epoch, loss_collect\n",
        "        )\n",
        "    )\n",
        "\n",
        "    # Return our normalized losses so we can analyze them later:\n",
        "    return loss_collect"
      ],
      "metadata": {
        "id": "Qiasp_dmX_CD"
      },
      "execution_count": 19,
      "outputs": []
    },
    {
      "cell_type": "markdown",
      "source": [
        "## Pulling it all together:"
      ],
      "metadata": {
        "id": "QudZVKvbYMZv"
      }
    },
    {
      "cell_type": "code",
      "source": [
        "## SET UP DATALOADERS: ---\n",
        "\n",
        "# Build starting dataset:\n",
        "dataset = LipoDataset(data_path)\n",
        "\n",
        "# Number of datapoints in the training set:\n",
        "n_train = int(len(dataset) * 0.8)\n",
        "\n",
        "# Number of datapoints in the validation set:\n",
        "n_val = len(dataset) - n_train\n",
        "\n",
        "# Define pytorch training and validation set objects:\n",
        "train_set, val_set = torch.utils.data.random_split(\n",
        "    dataset, [n_train, n_val], generator=torch.Generator().manual_seed(42)\n",
        ")\n",
        "\n",
        "# Build pytorch training and validation set dataloaders:\n",
        "train_dataloader = torch.utils.data.DataLoader(train_set, batch_size=32, shuffle=True)\n",
        "val_dataloader = torch.utils.data.DataLoader(val_set, batch_size=32, shuffle=True)"
      ],
      "metadata": {
        "id": "weJ6_ZAuYI46"
      },
      "execution_count": 20,
      "outputs": []
    },
    {
      "cell_type": "code",
      "source": [
        "## RUN TRAINING LOOP: ---\n",
        "\n",
        "# Train with a random seed to initialize weights:\n",
        "torch.manual_seed(0)\n",
        "\n",
        "# Assign training to a device (often cpu when we are just starting out)\n",
        "device = torch.device(\"cpu\")\n",
        "\n",
        "# Set up model:\n",
        "model = FCNN(hidden_layer_size=256)\n",
        "model.to(device)\n",
        "\n",
        "# Set up optimizer:\n",
        "optimizer = optim.Adadelta(model.parameters(), lr=1e-3)\n",
        "\n",
        "train_losses = []\n",
        "val_losses = []\n",
        "\n",
        "start_time = time.time()\n",
        "for epoch in range(1, 30):\n",
        "    train_loss = train(model, device, train_dataloader, optimizer)\n",
        "    train_losses.append(train_loss)\n",
        "\n",
        "    val_loss = validation(model, device, val_dataloader, epoch)\n",
        "    val_losses.append(val_loss)\n",
        "\n",
        "end_time = time.time()\n",
        "print(\"Time Elapsed = {}s\".format(end_time - start_time))"
      ],
      "metadata": {
        "colab": {
          "base_uri": "https://localhost:8080/"
        },
        "id": "4jFdsCMNYLNS",
        "outputId": "0d579430-de03-42e6-da7e-cead0344ef56"
      },
      "execution_count": 21,
      "outputs": [
        {
          "output_type": "stream",
          "name": "stdout",
          "text": [
            "\n",
            "Epoch:1   Validation dataset: Loss per Datapoint: 2.0940\n",
            "\n",
            "Epoch:2   Validation dataset: Loss per Datapoint: 2.0594\n",
            "\n",
            "Epoch:3   Validation dataset: Loss per Datapoint: 2.0020\n",
            "\n",
            "Epoch:4   Validation dataset: Loss per Datapoint: 1.8911\n",
            "\n",
            "Epoch:5   Validation dataset: Loss per Datapoint: 1.6266\n",
            "\n",
            "Epoch:6   Validation dataset: Loss per Datapoint: 1.1089\n",
            "\n",
            "Epoch:7   Validation dataset: Loss per Datapoint: 1.0122\n",
            "\n",
            "Epoch:8   Validation dataset: Loss per Datapoint: 1.0086\n",
            "\n",
            "Epoch:9   Validation dataset: Loss per Datapoint: 1.0055\n",
            "\n",
            "Epoch:10   Validation dataset: Loss per Datapoint: 1.0025\n",
            "\n",
            "Epoch:11   Validation dataset: Loss per Datapoint: 0.9992\n",
            "\n",
            "Epoch:12   Validation dataset: Loss per Datapoint: 0.9960\n",
            "\n",
            "Epoch:13   Validation dataset: Loss per Datapoint: 0.9931\n",
            "\n",
            "Epoch:14   Validation dataset: Loss per Datapoint: 0.9901\n",
            "\n",
            "Epoch:15   Validation dataset: Loss per Datapoint: 0.9870\n",
            "\n",
            "Epoch:16   Validation dataset: Loss per Datapoint: 0.9843\n",
            "\n",
            "Epoch:17   Validation dataset: Loss per Datapoint: 0.9812\n",
            "\n",
            "Epoch:18   Validation dataset: Loss per Datapoint: 0.9784\n",
            "\n",
            "Epoch:19   Validation dataset: Loss per Datapoint: 0.9756\n",
            "\n",
            "Epoch:20   Validation dataset: Loss per Datapoint: 0.9728\n",
            "\n",
            "Epoch:21   Validation dataset: Loss per Datapoint: 0.9700\n",
            "\n",
            "Epoch:22   Validation dataset: Loss per Datapoint: 0.9674\n",
            "\n",
            "Epoch:23   Validation dataset: Loss per Datapoint: 0.9648\n",
            "\n",
            "Epoch:24   Validation dataset: Loss per Datapoint: 0.9624\n",
            "\n",
            "Epoch:25   Validation dataset: Loss per Datapoint: 0.9594\n",
            "\n",
            "Epoch:26   Validation dataset: Loss per Datapoint: 0.9568\n",
            "\n",
            "Epoch:27   Validation dataset: Loss per Datapoint: 0.9541\n",
            "\n",
            "Epoch:28   Validation dataset: Loss per Datapoint: 0.9518\n",
            "\n",
            "Epoch:29   Validation dataset: Loss per Datapoint: 0.9492\n",
            "Time Elapsed = 27.05258345603943s\n"
          ]
        }
      ]
    },
    {
      "cell_type": "code",
      "source": [
        "plt.figure(figsize=(5, 4), dpi=100)\n",
        "\n",
        "plt.plot(train_losses)\n",
        "plt.plot(val_losses)\n",
        "\n",
        "plt.xlabel(\"Number of Epochs\")\n",
        "plt.ylabel(\"Loss\")\n",
        "\n",
        "plt.show()"
      ],
      "metadata": {
        "colab": {
          "base_uri": "https://localhost:8080/",
          "height": 388
        },
        "id": "R-yDw4BHZxex",
        "outputId": "d3a6c38e-4995-4362-a127-93bde9063ed7"
      },
      "execution_count": 22,
      "outputs": [
        {
          "output_type": "display_data",
          "data": {
            "text/plain": [
              "<Figure size 500x400 with 1 Axes>"
            ],
            "image/png": "[encoded data removed]"
          },
          "metadata": {}
        }
      ]
    },
    {
      "cell_type": "code",
      "source": [
        "def predict(model, device, dataloader):\n",
        "\n",
        "    # Set our model to evaluation mode:\n",
        "    model.eval()\n",
        "\n",
        "    X_all = []\n",
        "    y_all = []\n",
        "    pred_prob_all = []\n",
        "\n",
        "    # Remove gradients:\n",
        "    with torch.no_grad():\n",
        "\n",
        "        # Looping over the dataloader allows us to pull out or input/output data:\n",
        "        for X, y in dataloader:\n",
        "\n",
        "            # Assign X and y to the appropriate device:\n",
        "            X, y = X.to(device), y.to(device)\n",
        "\n",
        "            # Make a prediction:\n",
        "            pred_prob = model(X)\n",
        "\n",
        "            X_all.append(X)\n",
        "            y_all.append(y)\n",
        "            pred_prob_all.append(pred_prob)\n",
        "\n",
        "    # Return our normalized losses so we can analyze them later:\n",
        "    return (\n",
        "        torch.concat(X_all),\n",
        "        torch.concat(y_all),\n",
        "        torch.concat(pred_prob_all).view(-1),\n",
        "    )"
      ],
      "metadata": {
        "id": "LLcERxOuaA7v"
      },
      "execution_count": 23,
      "outputs": []
    },
    {
      "cell_type": "code",
      "source": [
        "X_all, y_all, pred_prob_all = predict(model, device, val_dataloader)"
      ],
      "metadata": {
        "id": "187fP-g5aGVX"
      },
      "execution_count": 24,
      "outputs": []
    },
    {
      "cell_type": "markdown",
      "source": [
        "## We can calculate statistics to measure how well we did:"
      ],
      "metadata": {
        "id": "1UFYNorLaLvU"
      }
    },
    {
      "cell_type": "code",
      "source": [
        "r2 = r2_score(y_all, pred_prob_all)\n",
        "mae = mean_absolute_error(y_all, pred_prob_all)\n",
        "mse = mean_squared_error(y_all, pred_prob_all)\n",
        "\n",
        "print(\"R2 Score: {}\".format(r2))\n",
        "print(\"MAE: {}\".format(mae))\n",
        "print(\"MSE: {}\".format(mse))"
      ],
      "metadata": {
        "colab": {
          "base_uri": "https://localhost:8080/"
        },
        "id": "zmRb85wdaInf",
        "outputId": "087d8534-25b7-4fef-ad31-70b279eb9e02"
      },
      "execution_count": 25,
      "outputs": [
        {
          "output_type": "stream",
          "name": "stdout",
          "text": [
            "R2 Score: 0.07367168232604282\n",
            "MAE: 0.9492286872606547\n",
            "MSE: 1.4399873572026107\n"
          ]
        }
      ]
    },
    {
      "cell_type": "code",
      "source": [
        "plt.figure(figsize=(4, 4), dpi=100)\n",
        "\n",
        "plt.scatter(y_all, pred_prob_all, alpha=0.3)\n",
        "plt.plot([min(y_all), max(y_all)], [min(y_all), max(y_all)], color=\"k\", ls=\"--\")\n",
        "plt.xlim([min(y_all), max(y_all)])\n",
        "\n",
        "plt.xlabel(\"True Values\")\n",
        "plt.ylabel(\"Predicted Values\")\n",
        "\n",
        "plt.show()"
      ],
      "metadata": {
        "colab": {
          "base_uri": "https://localhost:8080/",
          "height": 388
        },
        "id": "-nSNAGUvaKXd",
        "outputId": "6a836ab4-d3eb-4994-cf87-ee0abfd56f4b"
      },
      "execution_count": 26,
      "outputs": [
        {
          "output_type": "display_data",
          "data": {
            "text/plain": [
              "<Figure size 400x400 with 1 Axes>"
            ],
            "image/png": "[encoded data removed]"
          },
          "metadata": {}
        }
      ]
    },
    {
      "cell_type": "markdown",
      "source": [
        "***HACKING:*** To make our model better we can try adjusting our hyperparameters. You can try:\n",
        "\n",
        "\n",
        "*   Changing the learning rate\n",
        "*   Changing the number of layers\n",
        "*Changing the size of the layers\n",
        "\n",
        "How do these choices impact your model performace?\n",
        "How might you modify your code to take these hyperparameters as inputs to allow you to do a hyperparameter scan?\n",
        "\n"
      ],
      "metadata": {
        "id": "YyYmxFo3GQCb"
      }
    },
    {
      "cell_type": "code",
      "source": [],
      "metadata": {
        "id": "HXkYhs0VaTSB"
      },
      "execution_count": 26,
      "outputs": []
    }
  ]
}